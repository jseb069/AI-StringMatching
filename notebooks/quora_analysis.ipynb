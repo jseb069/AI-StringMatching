{
 "cells": [
  {
   "cell_type": "markdown",
   "metadata": {},
   "source": [
    "# Quora Question Pair Similarity Analysis\n",
    "This notebook applies three string similarity methods to the Quora Question Pairs dataset:"
   ]
  },
  {
   "cell_type": "code",
   "execution_count": null,
   "metadata": {},
   "outputs": [],
   "source": [
    "import pandas as pd\n",
    "from matcher.traditional import levenshtein_similarity\n",
    "from matcher.fuzzy import fuzzy_ratio\n",
    "from matcher.semantic import semantic_similarity\n",
    "from tqdm import tqdm\n",
    "import matplotlib.pyplot as plt\n",
    "from sklearn.metrics import roc_curve, auc"
   ]
  },
  {
   "cell_type": "code",
   "execution_count": null,
   "metadata": {},
   "outputs": [],
   "source": [
    "df = pd.read_csv("../data/quora_duplicate_questions.tsv", sep="\t").dropna()\n",
    "sample = df.sample(200, random_state=42)\n",
    "tqdm.pandas()\n",
    "sample["levenshtein"] = sample.progress_apply(lambda x: levenshtein_similarity(str(x["question1"]), str(x["question2"])), axis=1)\n",
    "sample["fuzzy"] = sample.progress_apply(lambda x: fuzzy_ratio(str(x["question1"]), str(x["question2"])), axis=1)\n",
    "sample["semantic"] = sample.progress_apply(lambda x: semantic_similarity(str(x["question1"]), str(x["question2"])), axis=1)"
   ]
  },
  {
   "cell_type": "code",
   "execution_count": null,
   "metadata": {},
   "outputs": [],
   "source": [
    "for method in ["levenshtein", "fuzzy", "semantic"]:\n",
    "    fpr, tpr, _ = roc_curve(sample["is_duplicate"], sample[method])\n",
    "    plt.plot(fpr, tpr, label=f"{method} (AUC={auc(fpr, tpr):.2f})")\n",
    "\n",
    "plt.xlabel("False Positive Rate")\n",
    "plt.ylabel("True Positive Rate")\n",
    "plt.title("ROC Curve for String Similarity Methods")\n",
    "plt.legend()\n",
    "plt.grid()\n",
    "plt.show()"
   ]
  }
 ],
 "metadata": {},
 "nbformat": 4,
 "nbformat_minor": 2
}